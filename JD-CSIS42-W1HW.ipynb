{
  "nbformat": 4,
  "nbformat_minor": 0,
  "metadata": {
    "colab": {
      "provenance": []
    },
    "kernelspec": {
      "name": "python3",
      "display_name": "Python 3"
    },
    "language_info": {
      "name": "python"
    }
  },
  "cells": [
    {
      "cell_type": "code",
      "source": [
        "#prompt user for username, age, and favorite hobby\n",
        "print(\"Enter username: \")\n",
        "print(\"Enter your age: \")\n",
        "print(\"Enter favorite hobby: \")\n",
        "\n",
        "#print their input\n",
        "print(\"Here is what you entered:\")\n",
        "print(username)\n",
        "print(age)\n",
        "print(favorite_hobby)"
      ],
      "metadata": {
        "colab": {
          "base_uri": "https://localhost:8080/"
        },
        "id": "jBCZJG1cI5ju",
        "outputId": "3ba83ca2-8264-4040-e920-59971e439f22"
      },
      "execution_count": 14,
      "outputs": [
        {
          "output_type": "stream",
          "name": "stdout",
          "text": [
            "Enter username: \n",
            "Enter your age: \n",
            "Enter favorite hobby: \n",
            "Here is what you entered:\n",
            "jmart22\n",
            "39\n",
            "sleeping\n"
          ]
        }
      ]
    },
    {
      "cell_type": "code",
      "source": [
        "#single line print of numbers 1-10, using sep argument\n",
        "print(1, 2, 3, 4, 5, 6, 7, 8, 9, 10, sep=' ')"
      ],
      "metadata": {
        "colab": {
          "base_uri": "https://localhost:8080/"
        },
        "id": "TabQqVVlJa2C",
        "outputId": "3bc06a81-8cec-4160-b605-28fdf7f35cee"
      },
      "execution_count": 17,
      "outputs": [
        {
          "output_type": "stream",
          "name": "stdout",
          "text": [
            "1 2 3 4 5 6 7 8 9 10\n"
          ]
        }
      ]
    },
    {
      "cell_type": "code",
      "source": [
        "#multi line print of numbers 1-9\n",
        "print(\"1\\n2\\n3\\n4\\n5\\n6\\n7\\n8\\n9\")"
      ],
      "metadata": {
        "colab": {
          "base_uri": "https://localhost:8080/"
        },
        "id": "UOW3xQWjLa37",
        "outputId": "6058eec2-59b2-4b37-d798-d6dc265ca167"
      },
      "execution_count": 22,
      "outputs": [
        {
          "output_type": "stream",
          "name": "stdout",
          "text": [
            "1\n",
            "2\n",
            "3\n",
            "4\n",
            "5\n",
            "6\n",
            "7\n",
            "8\n",
            "9\n"
          ]
        }
      ]
    },
    {
      "cell_type": "code",
      "source": [
        "#pattern print\n",
        "print(\"*\\n***\\n*****\\n*******\")"
      ],
      "metadata": {
        "colab": {
          "base_uri": "https://localhost:8080/"
        },
        "id": "U5SSGyBeN1xW",
        "outputId": "1f9f6338-a745-49f0-fee5-cb7d4d308fd4"
      },
      "execution_count": 25,
      "outputs": [
        {
          "output_type": "stream",
          "name": "stdout",
          "text": [
            "*\n",
            "***\n",
            "*****\n",
            "*******\n"
          ]
        }
      ]
    },
    {
      "cell_type": "code",
      "source": [
        "#cat face emoji pattern print\n",
        "print(\" /\\_/\\ \\n( o.o )\\n > ^ <\\n\")"
      ],
      "metadata": {
        "colab": {
          "base_uri": "https://localhost:8080/"
        },
        "id": "niTvQEh3OrMW",
        "outputId": "61a058f5-0c1e-4895-a6e5-1e8552d5bdc2"
      },
      "execution_count": 49,
      "outputs": [
        {
          "output_type": "stream",
          "name": "stdout",
          "text": [
            " /\\_/\\ \n",
            "( o.o )\n",
            " > ^ <\n",
            "\n"
          ]
        }
      ]
    },
    {
      "cell_type": "code",
      "source": [
        "#quiz\n",
        "print(\"Hello, \\'Hi\\' there\")"
      ],
      "metadata": {
        "colab": {
          "base_uri": "https://localhost:8080/"
        },
        "id": "bzLLEA_8Vm-i",
        "outputId": "51c25f3f-1e6e-4e63-8541-e94beb0d32c8"
      },
      "execution_count": 50,
      "outputs": [
        {
          "output_type": "stream",
          "name": "stdout",
          "text": [
            "Hello, 'Hi' there\n"
          ]
        }
      ]
    },
    {
      "cell_type": "code",
      "source": [
        "#quiz\n",
        "print(\"Hi \\\"hello\\\"\")"
      ],
      "metadata": {
        "colab": {
          "base_uri": "https://localhost:8080/"
        },
        "id": "UVDicmXnV3G_",
        "outputId": "53310fb8-751b-49f2-fa3c-aac9822aef0f"
      },
      "execution_count": 51,
      "outputs": [
        {
          "output_type": "stream",
          "name": "stdout",
          "text": [
            "Hi \"hello\"\n"
          ]
        }
      ]
    }
  ]
}