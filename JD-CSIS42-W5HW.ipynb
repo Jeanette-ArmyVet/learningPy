{
 "cells": [
  {
   "cell_type": "code",
   "execution_count": 3,
   "metadata": {},
   "outputs": [
    {
     "name": "stdout",
     "output_type": "stream",
     "text": [
      "[0, 1, 9, 16, 100]\n",
      "[4, 9, 9, 49, 121]\n"
     ]
    }
   ],
   "source": [
    "# Squares each integer in a sorted array and returns a new sorted array\n",
    "def square_and_sort(nums):\n",
    "    return sorted(x**2 for x in nums)\n",
    "\n",
    "# Example 1\n",
    "nums = [-4, -1, 0, 3, 10]\n",
    "print(square_and_sort(nums)) # output: [0 ,1, 9, 16, 100]\n",
    "\n",
    "# Example 2\n",
    "nums = [-7, -3, 2, 3, 11]\n",
    "print(square_and_sort(nums)) # output: [4 ,9, 9, 49, 121]\n",
    "\n",
    "# Time complexity: O(log n), Space complexity O(n)\n"
   ]
  },
  {
   "cell_type": "code",
   "execution_count": 5,
   "metadata": {},
   "outputs": [
    {
     "name": "stdout",
     "output_type": "stream",
     "text": [
      "1\n",
      "4\n",
      "1\n"
     ]
    }
   ],
   "source": [
    "# Finds the single element that appears only once in a non-empty array using bitwise XOR.\n",
    "def singleNumber_xor(nums):\n",
    "    result = 0\n",
    "    for num in nums:\n",
    "        result ^= num\n",
    "    return result\n",
    "\n",
    "# Example 1\n",
    "nums = [2,2,1]\n",
    "single_element = singleNumber_xor(nums)\n",
    "print(single_element)  # Output: 1\n",
    "\n",
    "# Example 2\n",
    "nums = [4,1,2,1,2]\n",
    "single_element = singleNumber_xor(nums)\n",
    "print(single_element)  # Output: 4\n",
    "\n",
    "# Example 3\n",
    "nums = [1]\n",
    "single_element = singleNumber_xor(nums)\n",
    "print(single_element)  # Output: 1 \n",
    "\n",
    "# Time complexity: O(n), Space complexity: O(1)"
   ]
  },
  {
   "cell_type": "code",
   "execution_count": 6,
   "metadata": {},
   "outputs": [
    {
     "name": "stdout",
     "output_type": "stream",
     "text": [
      "[ 2  2 -1 -1]\n",
      "[ 0  1  3  0  4 -1 -1 -1]\n"
     ]
    }
   ],
   "source": [
    "import numpy as np\n",
    "\n",
    "# Replaces ocurrences of a value in a positive integer array with -1 and places them at the end.\n",
    "def replace_elements_numpy(nums, val):\n",
    "    # Convert input list to NumPy array\n",
    "    nums = np.array(nums)\n",
    "\n",
    "    # Replace ocurrences of val with -1 directly\n",
    "    nums[nums == val] = -1\n",
    "\n",
    "    # Reorder elements efficiently\n",
    "    return np.concatenate((nums[nums != -1], nums[nums == -1]))\n",
    "\n",
    "# Example 1\n",
    "nums = [3, 2, 2, 3]\n",
    "val = 3\n",
    "result = replace_elements_numpy(nums, val)\n",
    "print(result)  # Output: [ 2  2 -1 -1]\n",
    "\n",
    "# Example 2\n",
    "nums = [0,1,2,2,3,0,4,2]\n",
    "val = 2\n",
    "result = replace_elements_numpy(nums, val)\n",
    "print(result)  # Output: [0,1,4,0,3,-1,-1,-1]\n",
    "\n",
    "# Time complexity: O(n), Space complexity: O(n)"
   ]
  },
  {
   "cell_type": "code",
   "execution_count": 9,
   "metadata": {},
   "outputs": [
    {
     "name": "stdout",
     "output_type": "stream",
     "text": [
      "[1, 2, 3, 4, 5, 9]\n"
     ]
    }
   ],
   "source": [
    "#define sorted arrays\n",
    "a = [1, 2, 5]\n",
    "b = [3, 4, 9]\n",
    "c = [a + b]\n",
    "\n",
    "#sort elements in ascending order\n",
    "array_c = sorted(a + b)\n",
    "\n",
    "print(array_c)  # Output: [1, 2, 3, 4, 5, 9]\n",
    "\n",
    "# Time complexity: O(n), Space complexity: O(n)"
   ]
  }
 ],
 "metadata": {
  "kernelspec": {
   "display_name": "Python 3",
   "language": "python",
   "name": "python3"
  },
  "language_info": {
   "codemirror_mode": {
    "name": "ipython",
    "version": 3
   },
   "file_extension": ".py",
   "mimetype": "text/x-python",
   "name": "python",
   "nbconvert_exporter": "python",
   "pygments_lexer": "ipython3",
   "version": "3.11.2"
  }
 },
 "nbformat": 4,
 "nbformat_minor": 2
}
